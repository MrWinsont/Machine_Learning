{
 "cells": [
  {
   "cell_type": "code",
   "execution_count": 115,
   "id": "99978d28",
   "metadata": {},
   "outputs": [],
   "source": [
    "from xgboost import XGBClassifier\n",
    "import pandas as pd\n",
    "import numpy as np\n",
    "from sklearn.model_selection import train_test_split\n",
    "import time\n",
    "from sklearn.metrics import accuracy_score"
   ]
  },
  {
   "cell_type": "code",
   "execution_count": 116,
   "id": "2e9529c9",
   "metadata": {},
   "outputs": [
    {
     "name": "stdout",
     "output_type": "stream",
     "text": [
      "     Pregnancies  Glucose  BloodPressure  SkinThickness  Insulin   BMI  \\\n",
      "0              6      148             72             35        0  33.6   \n",
      "1              1       85             66             29        0  26.6   \n",
      "2              8      183             64              0        0  23.3   \n",
      "3              1       89             66             23       94  28.1   \n",
      "4              0      137             40             35      168  43.1   \n",
      "..           ...      ...            ...            ...      ...   ...   \n",
      "763           10      101             76             48      180  32.9   \n",
      "764            2      122             70             27        0  36.8   \n",
      "765            5      121             72             23      112  26.2   \n",
      "766            1      126             60              0        0  30.1   \n",
      "767            1       93             70             31        0  30.4   \n",
      "\n",
      "     DiabetesPedigreeFunction  Age  Outcome  \n",
      "0                       0.627   50        1  \n",
      "1                       0.351   31        0  \n",
      "2                       0.672   32        1  \n",
      "3                       0.167   21        0  \n",
      "4                       2.288   33        1  \n",
      "..                        ...  ...      ...  \n",
      "763                     0.171   63        0  \n",
      "764                     0.340   27        0  \n",
      "765                     0.245   30        0  \n",
      "766                     0.349   47        1  \n",
      "767                     0.315   23        0  \n",
      "\n",
      "[768 rows x 9 columns]\n"
     ]
    }
   ],
   "source": [
    "data = pd.read_csv('diabetes.csv')\n",
    "print(data)"
   ]
  },
  {
   "cell_type": "code",
   "execution_count": 117,
   "id": "bb6184cf",
   "metadata": {},
   "outputs": [],
   "source": [
    "X = data.drop(\"Outcome\", axis=1)\n",
    "y = data[\"Outcome\"]\n",
    "\n",
    "X_train, X_test, y_train, y_test = train_test_split(X, y, test_size=0.3, random_state=0)"
   ]
  },
  {
   "cell_type": "code",
   "execution_count": 118,
   "id": "a20865ea",
   "metadata": {},
   "outputs": [
    {
     "name": "stdout",
     "output_type": "stream",
     "text": [
      "Точность: 0.7359307359307359\n",
      "Время обучения: 0.19712495803833008 секунд\n"
     ]
    }
   ],
   "source": [
    "bst = XGBClassifier(n_estimators=100, max_depth=2, learning_rate=3, objective='binary:logistic', reg_alpha=30, reg_lambda=80, booster='dart')\n",
    "start = time.time()\n",
    "bst.fit(X_train, y_train)\n",
    "end = time.time()\n",
    "\n",
    "y_pred = bst.predict(X_test)\n",
    "acc = accuracy_score(y_test, y_pred)\n",
    "\n",
    "print(f\"Точность: {acc}\")\n",
    "print(f\"Время обучения: {end - start} секунд\")"
   ]
  },
  {
   "cell_type": "markdown",
   "id": "ee44bd0e",
   "metadata": {},
   "source": [
    "подберем гиперпараметры используя Random Search"
   ]
  },
  {
   "cell_type": "code",
   "execution_count": 119,
   "id": "405e8276",
   "metadata": {},
   "outputs": [],
   "source": [
    "from sklearn.model_selection import RandomizedSearchCV\n",
    "import warnings\n",
    "warnings.filterwarnings('ignore')"
   ]
  },
  {
   "cell_type": "code",
   "execution_count": 120,
   "id": "acd4eedf",
   "metadata": {},
   "outputs": [
    {
     "name": "stdout",
     "output_type": "stream",
     "text": [
      "Подобранные гиперпараметры: {'reg_lambda': 50, 'reg_alpha': 10, 'num_estimators': 40, 'max_depth': 17, 'learning_rate': 4}\n",
      "точность: 0.7792207792207793\n",
      "Время обучения: 1.1696550846099854 секунд \n"
     ]
    }
   ],
   "source": [
    "bst = XGBClassifier()\n",
    "params = dict(num_estimators=range(10, 210, 10), max_depth=range(1, 21), learning_rate = range(1,10), reg_alpha=range(0, 100, 10), reg_lambda=range(0, 100, 10))\n",
    "clf = RandomizedSearchCV(bst, params, random_state=0)\n",
    "start = time.time()\n",
    "clf.fit(X_train, y_train)\n",
    "end = time.time()\n",
    "y_pred = clf.predict(X_test)\n",
    "acc = accuracy_score(y_test, y_pred)\n",
    "print(f\"Подобранные гиперпараметры: {clf.best_params_}\")\n",
    "print(f\"точность: {acc}\")\n",
    "print(f\"Время обучения: {end-start} секунд \")"
   ]
  },
  {
   "cell_type": "markdown",
   "id": "b745ecef",
   "metadata": {},
   "source": [
    "теперь подберем гиперпараметры, используя алгоритм TPE и библиотеку Hyperopt"
   ]
  },
  {
   "cell_type": "code",
   "execution_count": 121,
   "id": "e891cd32",
   "metadata": {},
   "outputs": [],
   "source": [
    "from hyperopt import fmin, tpe, hp, Trials, STATUS_OK"
   ]
  },
  {
   "cell_type": "markdown",
   "id": "221d4758",
   "metadata": {},
   "source": [
    "определим выбор наших гиперпараметров"
   ]
  },
  {
   "cell_type": "code",
   "execution_count": 122,
   "id": "1ff2390d",
   "metadata": {},
   "outputs": [],
   "source": [
    "space = {'max_depth': hp.choice('max_depth', range(1, 21)),\n",
    "         'n_estimators': hp.choice('n_estimators', range(10, 210, 10)),\n",
    "         'reg_lamda':  hp.choice('reg_lambda', range(0, 100, 10)),\n",
    "         'reg_alpha': hp.choice('reg_alpha', range(0, 100, 10)),\n",
    "         'learning_rate': hp.choice('learning_rate', range(1,10))}"
   ]
  },
  {
   "cell_type": "code",
   "execution_count": 123,
   "id": "f7dcff7c",
   "metadata": {},
   "outputs": [],
   "source": [
    "\n",
    "def objective(params):\n",
    "    clf = XGBClassifier(**params)\n",
    "    clf.fit(X_train, y_train)\n",
    "    y_pred = clf.predict(X_test)\n",
    "    return {'loss': -accuracy_score(y_test, y_pred), 'status': STATUS_OK}"
   ]
  },
  {
   "cell_type": "code",
   "execution_count": 124,
   "id": "355e8e40",
   "metadata": {},
   "outputs": [
    {
     "name": "stdout",
     "output_type": "stream",
     "text": [
      "100%|██████████| 50/50 [00:01<00:00, 30.54trial/s, best loss: -0.7965367965367965]\n",
      "Подобранные гиперпараметры: {'max_depth': 11, 'n_estimators': 110, 'reg_lambda': 80, 'reg_alpha': 20, 'learning_rate': 3}\n",
      "точность: 0.7965367965367965\n",
      "Время обучения: 1.6471788883209229 секнуд\n"
     ]
    }
   ],
   "source": [
    "trials = Trials()\n",
    "start = time.time()\n",
    "best = fmin(fn=objective,\n",
    "            space=space,\n",
    "            algo=tpe.suggest,\n",
    "            max_evals=50,\n",
    "            trials=trials,\n",
    "            show_progressbar=True)\n",
    "end = time.time()\n",
    "best_params = {'max_depth': list(range(1, 21))[best['max_depth']],\n",
    "               'n_estimators': list(range(10, 210, 10))[best['n_estimators']],\n",
    "               'reg_lambda': list(range(0, 100, 10))[best['reg_lambda']],\n",
    "               'reg_alpha': list(range(0, 100, 10))[best['reg_alpha']],\n",
    "               'learning_rate': list(range(1,10))[best['learning_rate']]}\n",
    "print(f\"Подобранные гиперпараметры: {best_params}\")\n",
    "print(f\"точность: {-trials.best_trial['result']['loss']}\")\n",
    "print(f\"Время обучения: {end - start} секнуд\")"
   ]
  },
  {
   "cell_type": "markdown",
   "id": "855b0a40",
   "metadata": {},
   "source": [
    "подводя итог и сравнивая полученные результаты:\n",
    "через алгоритм TPE мы получили самую высокую точность за самое короткое время(не считая резульат, полученный в лабораторной 5.2).\n",
    "С помощью Random Search мы тоже получили хорошую точность за короткое время, но у TPE результаты все таки лучше.\n",
    "Полученный по итогу набор дучших гиперпараметров довольно сильно различается.\n",
    "В первом случае имеем большую глубину и маленький набор деревьев, во втором случае все наоборот, глубина меньше, количество деревьев больше. Значения же reg_lambda и reg_alpha хоть и отличаются, но в обоих случаях первый параметр стремится быть больше, а второй меньше"
   ]
  }
 ],
 "metadata": {
  "kernelspec": {
   "display_name": ".venv",
   "language": "python",
   "name": "python3"
  },
  "language_info": {
   "codemirror_mode": {
    "name": "ipython",
    "version": 3
   },
   "file_extension": ".py",
   "mimetype": "text/x-python",
   "name": "python",
   "nbconvert_exporter": "python",
   "pygments_lexer": "ipython3",
   "version": "3.10.6"
  }
 },
 "nbformat": 4,
 "nbformat_minor": 5
}
