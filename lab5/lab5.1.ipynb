{
 "cells": [
  {
   "cell_type": "code",
   "execution_count": 2,
   "id": "abf010b3",
   "metadata": {},
   "outputs": [],
   "source": [
    "import numpy as np\n",
    "import pandas as pd\n",
    "from sklearn.model_selection import train_test_split"
   ]
  },
  {
   "cell_type": "markdown",
   "id": "9c1c60e3",
   "metadata": {},
   "source": [
    "чтение данных"
   ]
  },
  {
   "cell_type": "code",
   "execution_count": 3,
   "id": "bc5a96e5",
   "metadata": {},
   "outputs": [
    {
     "name": "stdout",
     "output_type": "stream",
     "text": [
      "     Pregnancies  Glucose  BloodPressure  SkinThickness  Insulin   BMI  \\\n",
      "0              6      148             72             35        0  33.6   \n",
      "1              1       85             66             29        0  26.6   \n",
      "2              8      183             64              0        0  23.3   \n",
      "3              1       89             66             23       94  28.1   \n",
      "4              0      137             40             35      168  43.1   \n",
      "..           ...      ...            ...            ...      ...   ...   \n",
      "763           10      101             76             48      180  32.9   \n",
      "764            2      122             70             27        0  36.8   \n",
      "765            5      121             72             23      112  26.2   \n",
      "766            1      126             60              0        0  30.1   \n",
      "767            1       93             70             31        0  30.4   \n",
      "\n",
      "     DiabetesPedigreeFunction  Age  Outcome  \n",
      "0                       0.627   50        1  \n",
      "1                       0.351   31        0  \n",
      "2                       0.672   32        1  \n",
      "3                       0.167   21        0  \n",
      "4                       2.288   33        1  \n",
      "..                        ...  ...      ...  \n",
      "763                     0.171   63        0  \n",
      "764                     0.340   27        0  \n",
      "765                     0.245   30        0  \n",
      "766                     0.349   47        1  \n",
      "767                     0.315   23        0  \n",
      "\n",
      "[768 rows x 9 columns]\n"
     ]
    }
   ],
   "source": [
    "data = pd.read_csv('diabetes.csv')\n",
    "print(data)"
   ]
  },
  {
   "cell_type": "markdown",
   "id": "0ce51073",
   "metadata": {},
   "source": [
    "разделение данных на тестовый и обучающий набор "
   ]
  },
  {
   "cell_type": "code",
   "execution_count": 4,
   "id": "d5f200ea",
   "metadata": {},
   "outputs": [],
   "source": [
    "X = data.drop([\"Outcome\"], axis=1)\n",
    "y = data[\"Outcome\"]\n",
    "X_train, X_test, y_train, y_test = train_test_split(X, y, test_size=0.4, random_state=0)"
   ]
  },
  {
   "cell_type": "code",
   "execution_count": 5,
   "id": "f6f8c293",
   "metadata": {},
   "outputs": [],
   "source": [
    "from sklearn.metrics import recall_score, precision_score, f1_score, accuracy_score\n",
    "from sklearn.linear_model import LogisticRegression\n",
    "from sklearn.tree import DecisionTreeClassifier "
   ]
  },
  {
   "cell_type": "markdown",
   "id": "6654b835",
   "metadata": {},
   "source": [
    "вспомогательная функция для получения информации о метриках"
   ]
  },
  {
   "cell_type": "code",
   "execution_count": 6,
   "id": "4d6f9a6b",
   "metadata": {},
   "outputs": [],
   "source": [
    "def metrics_info(y, y_pred):\n",
    "    print(\"Accuracy:\", accuracy_score(y, y_pred))\n",
    "    print(\"Precision:\", precision_score(y, y_pred))\n",
    "    print(\"Recall:\", recall_score(y, y_pred))\n",
    "    print(\"F1:\", f1_score(y, y_pred))"
   ]
  },
  {
   "cell_type": "markdown",
   "id": "b299c1c6",
   "metadata": {},
   "source": [
    "логистическая регрессия: обучение и получение информации о метриках"
   ]
  },
  {
   "cell_type": "code",
   "execution_count": 7,
   "id": "25d8affe",
   "metadata": {},
   "outputs": [
    {
     "name": "stdout",
     "output_type": "stream",
     "text": [
      "логистическая регрессия\n",
      "\n",
      "train set\n",
      "Accuracy: 0.7608695652173914\n",
      "Precision: 0.7007299270072993\n",
      "Recall: 0.5818181818181818\n",
      "F1: 0.6357615894039735\n",
      "\n",
      "test set\n",
      "Accuracy: 0.788961038961039\n",
      "Precision: 0.7638888888888888\n",
      "Recall: 0.5339805825242718\n",
      "F1: 0.6285714285714286\n"
     ]
    }
   ],
   "source": [
    "clf = LogisticRegression(random_state=0, max_iter=250)\n",
    "clf.fit(X_train, y_train)\n",
    "y_pred = clf.predict(X_train)\n",
    "print(\"логистическая регрессия\\n\")\n",
    "print(\"train set\")\n",
    "metrics_info(y_train, y_pred)\n",
    "print(\"\\ntest set\")\n",
    "y_pred = clf.predict(X_test)\n",
    "metrics_info(y_test, y_pred)"
   ]
  },
  {
   "cell_type": "markdown",
   "id": "89614526",
   "metadata": {},
   "source": [
    "обучающее дерево: обучение и получение информации о метриках"
   ]
  },
  {
   "cell_type": "code",
   "execution_count": 8,
   "id": "9522049b",
   "metadata": {},
   "outputs": [
    {
     "name": "stdout",
     "output_type": "stream",
     "text": [
      "обучающее дерево\n",
      "\n",
      "train set\n",
      "Accuracy: 1.0\n",
      "Precision: 1.0\n",
      "Recall: 1.0\n",
      "F1: 1.0\n",
      "\n",
      "test set\n",
      "Accuracy: 0.6915584415584416\n",
      "Precision: 0.5416666666666666\n",
      "Recall: 0.5048543689320388\n",
      "F1: 0.5226130653266332\n"
     ]
    }
   ],
   "source": [
    "clf = DecisionTreeClassifier(random_state=0)\n",
    "clf.fit(X_train, y_train)\n",
    "y_pred = clf.predict(X_train)\n",
    "print(\"обучающее дерево\\n\")\n",
    "print(\"train set\")\n",
    "metrics_info(y_train, y_pred)\n",
    "print(\"\\ntest set\")\n",
    "y_pred = clf.predict(X_test)\n",
    "metrics_info(y_test, y_pred)"
   ]
  },
  {
   "cell_type": "markdown",
   "id": "7f5b00de",
   "metadata": {},
   "source": [
    "Решающее дерево с параметрами по умолчанию сильно переобучилось. Сейчас лучше обобщает датасет модель логистической регрессии. Но стоит попробовать подобрать гиперпараметры решающего дерева, чтобы оно не переобучалось. И возможно тогда нам удастся получить качество лучше чем у линейной модели."
   ]
  },
  {
   "cell_type": "markdown",
   "id": "336a5e23",
   "metadata": {},
   "source": [
    "для иссмледования зависимости метрики от глубины решающего дерева, возьмем метрику F1. Так как метрика F1 объединяет Recall и Precision, используя их гармоническое среднее. Максимизация оценки F1 подразумевает одновременное максимизирование упомянутых метрик."
   ]
  },
  {
   "cell_type": "markdown",
   "id": "548a0252",
   "metadata": {},
   "source": [
    "построим график зависимости глубины от метрики F1"
   ]
  },
  {
   "cell_type": "code",
   "execution_count": 9,
   "id": "4a91ab18",
   "metadata": {},
   "outputs": [
    {
     "data": {
      "image/png": "[encoded data removed]",
      "text/plain": [
       "<Figure size 640x480 with 1 Axes>"
      ]
     },
     "metadata": {},
     "output_type": "display_data"
    }
   ],
   "source": [
    "import matplotlib.pyplot as plt\n",
    "f1s = []\n",
    "depths = range(1, 41)\n",
    "best_depth = -1\n",
    "max_f1 = 0\n",
    "for depth in depths:\n",
    "    clf = DecisionTreeClassifier(max_depth=depth, random_state=0)\n",
    "    clf.fit(X_train, y_train)\n",
    "    y_pred = clf.predict(X_test)\n",
    "    f1 = f1_score(y_test, y_pred)\n",
    "    f1s.append(f1)\n",
    "    if f1 > max_f1:\n",
    "        max_f1 = f1\n",
    "        best_depth = depth\n",
    "plt.plot(depths, f1s)\n",
    "plt.xlabel(\"Глубина\")\n",
    "plt.ylabel(\"F1\")\n",
    "plt.title(\"График зависимости качества модели от глубины\")\n",
    "plt.show()"
   ]
  },
  {
   "cell_type": "code",
   "execution_count": 10,
   "id": "a9bd0569",
   "metadata": {},
   "outputs": [
    {
     "name": "stdout",
     "output_type": "stream",
     "text": [
      "наилучшее значение F1 - 0.6185567010309279 и соответсвующая глубина - 4\n"
     ]
    }
   ],
   "source": [
    "print(f\"наилучшее значение F1 - {max_f1} и соответсвующая глубина - {best_depth}\")"
   ]
  },
  {
   "cell_type": "markdown",
   "id": "e5a63f60",
   "metadata": {},
   "source": [
    "таким образом, мы получили модель с таким же хорошим качеством, как и у логистической регресси. "
   ]
  },
  {
   "cell_type": "markdown",
   "id": "8726f77f",
   "metadata": {},
   "source": [
    "построим соответсвеюющее дерево."
   ]
  },
  {
   "cell_type": "code",
   "execution_count": 11,
   "id": "95c285bc",
   "metadata": {},
   "outputs": [],
   "source": [
    "from sklearn import tree\n",
    "import graphviz"
   ]
  },
  {
   "cell_type": "code",
   "execution_count": 12,
   "id": "97ee6dbf",
   "metadata": {},
   "outputs": [
    {
     "data": {
      "image/svg+xml": [
       "<?xml version=\"1.0\" encoding=\"UTF-8\" standalone=\"no\"?>\n",
       "<!DOCTYPE svg PUBLIC \"-//W3C//DTD SVG 1.1//EN\"\n",
       " \"http://www.w3.org/Graphics/SVG/1.1/DTD/svg11.dtd\">\n",
       "<!-- Generated by graphviz version 12.2.1 (20241206.2353)\n",
       " -->\n",
       "<!-- Title: Tree Pages: 1 -->\n",
       "<svg width=\"1653pt\" height=\"570pt\"\n",
       " viewBox=\"0.00 0.00 1652.75 570.00\" xmlns=\"http://www.w3.org/2000/svg\" xmlns:xlink=\"http://www.w3.org/1999/xlink\">\n",
       "<g id=\"graph0\" class=\"graph\" transform=\"scale(1 1) rotate(0) translate(4 566)\">\n",
       "<title>Tree</title>\n",
       "<polygon fill=\"white\" stroke=\"none\" points=\"-4,4 -4,-566 1648.75,-566 1648.75,4 -4,4\"/>\n",
       "<!-- 0 -->\n",
       "<g id=\"node1\" class=\"node\">\n",
       "<title>0</title>\n",
       "<path fill=\"#f4c7a8\" stroke=\"black\" d=\"M941.75,-562C941.75,-562 841.75,-562 841.75,-562 835.75,-562 829.75,-556 829.75,-550 829.75,-550 829.75,-487.25 829.75,-487.25 829.75,-481.25 835.75,-475.25 841.75,-475.25 841.75,-475.25 941.75,-475.25 941.75,-475.25 947.75,-475.25 953.75,-481.25 953.75,-487.25 953.75,-487.25 953.75,-550 953.75,-550 953.75,-556 947.75,-562 941.75,-562\"/>\n",
       "<text text-anchor=\"start\" x=\"842.25\" y=\"-544.7\" font-family=\"Helvetica,sans-Serif\" font-size=\"14.00\">Glucose ≤ 154.5</text>\n",
       "<text text-anchor=\"start\" x=\"860.25\" y=\"-528.95\" font-family=\"Helvetica,sans-Serif\" font-size=\"14.00\">gini = 0.46</text>\n",
       "<text text-anchor=\"start\" x=\"847.12\" y=\"-513.2\" font-family=\"Helvetica,sans-Serif\" font-size=\"14.00\">samples = 460</text>\n",
       "<text text-anchor=\"start\" x=\"837.75\" y=\"-497.45\" font-family=\"Helvetica,sans-Serif\" font-size=\"14.00\">value = [295, 165]</text>\n",
       "<text text-anchor=\"start\" x=\"864.75\" y=\"-481.7\" font-family=\"Helvetica,sans-Serif\" font-size=\"14.00\">class = 0</text>\n",
       "</g>\n",
       "<!-- 1 -->\n",
       "<g id=\"node2\" class=\"node\">\n",
       "<title>1</title>\n",
       "<path fill=\"#eeae7f\" stroke=\"black\" d=\"M755.25,-439.25C755.25,-439.25 640.25,-439.25 640.25,-439.25 634.25,-439.25 628.25,-433.25 628.25,-427.25 628.25,-427.25 628.25,-364.5 628.25,-364.5 628.25,-358.5 634.25,-352.5 640.25,-352.5 640.25,-352.5 755.25,-352.5 755.25,-352.5 761.25,-352.5 767.25,-358.5 767.25,-364.5 767.25,-364.5 767.25,-427.25 767.25,-427.25 767.25,-433.25 761.25,-439.25 755.25,-439.25\"/>\n",
       "<text text-anchor=\"start\" x=\"665.12\" y=\"-421.95\" font-family=\"Helvetica,sans-Serif\" font-size=\"14.00\">Age ≤ 28.5</text>\n",
       "<text text-anchor=\"start\" x=\"662.5\" y=\"-406.2\" font-family=\"Helvetica,sans-Serif\" font-size=\"14.00\">gini = 0.386</text>\n",
       "<text text-anchor=\"start\" x=\"653.12\" y=\"-390.45\" font-family=\"Helvetica,sans-Serif\" font-size=\"14.00\">samples = 379</text>\n",
       "<text text-anchor=\"start\" x=\"636.25\" y=\"-374.7\" font-family=\"Helvetica,sans-Serif\" font-size=\"14.00\">value = [280.0, 99.0]</text>\n",
       "<text text-anchor=\"start\" x=\"670.75\" y=\"-358.95\" font-family=\"Helvetica,sans-Serif\" font-size=\"14.00\">class = 0</text>\n",
       "</g>\n",
       "<!-- 0&#45;&gt;1 -->\n",
       "<g id=\"edge1\" class=\"edge\">\n",
       "<title>0&#45;&gt;1</title>\n",
       "<path fill=\"none\" stroke=\"black\" d=\"M829.3,-478.75C812.38,-468.23 793.85,-456.69 776.18,-445.69\"/>\n",
       "<polygon fill=\"black\" stroke=\"black\" points=\"778.09,-442.76 767.75,-440.44 774.39,-448.7 778.09,-442.76\"/>\n",
       "<text text-anchor=\"middle\" x=\"772.13\" y=\"-458.57\" font-family=\"Helvetica,sans-Serif\" font-size=\"14.00\">True</text>\n",
       "</g>\n",
       "<!-- 16 -->\n",
       "<g id=\"node17\" class=\"node\">\n",
       "<title>16</title>\n",
       "<path fill=\"#66b3eb\" stroke=\"black\" d=\"M1069.25,-439.25C1069.25,-439.25 984.25,-439.25 984.25,-439.25 978.25,-439.25 972.25,-433.25 972.25,-427.25 972.25,-427.25 972.25,-364.5 972.25,-364.5 972.25,-358.5 978.25,-352.5 984.25,-352.5 984.25,-352.5 1069.25,-352.5 1069.25,-352.5 1075.25,-352.5 1081.25,-358.5 1081.25,-364.5 1081.25,-364.5 1081.25,-427.25 1081.25,-427.25 1081.25,-433.25 1075.25,-439.25 1069.25,-439.25\"/>\n",
       "<text text-anchor=\"start\" x=\"990\" y=\"-421.95\" font-family=\"Helvetica,sans-Serif\" font-size=\"14.00\">BMI ≤ 29.95</text>\n",
       "<text text-anchor=\"start\" x=\"991.5\" y=\"-406.2\" font-family=\"Helvetica,sans-Serif\" font-size=\"14.00\">gini = 0.302</text>\n",
       "<text text-anchor=\"start\" x=\"985.88\" y=\"-390.45\" font-family=\"Helvetica,sans-Serif\" font-size=\"14.00\">samples = 81</text>\n",
       "<text text-anchor=\"start\" x=\"980.25\" y=\"-374.7\" font-family=\"Helvetica,sans-Serif\" font-size=\"14.00\">value = [15, 66]</text>\n",
       "<text text-anchor=\"start\" x=\"999.75\" y=\"-358.95\" font-family=\"Helvetica,sans-Serif\" font-size=\"14.00\">class = 1</text>\n",
       "</g>\n",
       "<!-- 0&#45;&gt;16 -->\n",
       "<g id=\"edge16\" class=\"edge\">\n",
       "<title>0&#45;&gt;16</title>\n",
       "<path fill=\"none\" stroke=\"black\" d=\"M939.35,-475.05C949.53,-465.94 960.38,-456.24 970.84,-446.88\"/>\n",
       "<polygon fill=\"black\" stroke=\"black\" points=\"972.88,-449.75 978,-440.48 968.21,-444.54 972.88,-449.75\"/>\n",
       "<text text-anchor=\"middle\" x=\"977.74\" y=\"-459.01\" font-family=\"Helvetica,sans-Serif\" font-size=\"14.00\">False</text>\n",
       "</g>\n",
       "<!-- 2 -->\n",
       "<g id=\"node3\" class=\"node\">\n",
       "<title>2</title>\n",
       "<path fill=\"#e99355\" stroke=\"black\" d=\"M406,-316.5C406,-316.5 313.5,-316.5 313.5,-316.5 307.5,-316.5 301.5,-310.5 301.5,-304.5 301.5,-304.5 301.5,-241.75 301.5,-241.75 301.5,-235.75 307.5,-229.75 313.5,-229.75 313.5,-229.75 406,-229.75 406,-229.75 412,-229.75 418,-235.75 418,-241.75 418,-241.75 418,-304.5 418,-304.5 418,-310.5 412,-316.5 406,-316.5\"/>\n",
       "<text text-anchor=\"start\" x=\"326.75\" y=\"-299.2\" font-family=\"Helvetica,sans-Serif\" font-size=\"14.00\">BMI ≤ 45.4</text>\n",
       "<text text-anchor=\"start\" x=\"324.5\" y=\"-283.45\" font-family=\"Helvetica,sans-Serif\" font-size=\"14.00\">gini = 0.216</text>\n",
       "<text text-anchor=\"start\" x=\"315.12\" y=\"-267.7\" font-family=\"Helvetica,sans-Serif\" font-size=\"14.00\">samples = 195</text>\n",
       "<text text-anchor=\"start\" x=\"309.5\" y=\"-251.95\" font-family=\"Helvetica,sans-Serif\" font-size=\"14.00\">value = [171, 24]</text>\n",
       "<text text-anchor=\"start\" x=\"332.75\" y=\"-236.2\" font-family=\"Helvetica,sans-Serif\" font-size=\"14.00\">class = 0</text>\n",
       "</g>\n",
       "<!-- 1&#45;&gt;2 -->\n",
       "<g id=\"edge2\" class=\"edge\">\n",
       "<title>1&#45;&gt;2</title>\n",
       "<path fill=\"none\" stroke=\"black\" d=\"M628.13,-370C569.82,-349.17 487.03,-319.6 428.87,-298.82\"/>\n",
       "<polygon fill=\"black\" stroke=\"black\" points=\"430.32,-295.62 419.73,-295.55 427.97,-302.21 430.32,-295.62\"/>\n",
       "</g>\n",
       "<!-- 9 -->\n",
       "<g id=\"node10\" class=\"node\">\n",
       "<title>9</title>\n",
       "<path fill=\"#f7d8c1\" stroke=\"black\" d=\"M744,-316.5C744,-316.5 651.5,-316.5 651.5,-316.5 645.5,-316.5 639.5,-310.5 639.5,-304.5 639.5,-304.5 639.5,-241.75 639.5,-241.75 639.5,-235.75 645.5,-229.75 651.5,-229.75 651.5,-229.75 744,-229.75 744,-229.75 750,-229.75 756,-235.75 756,-241.75 756,-241.75 756,-304.5 756,-304.5 756,-310.5 750,-316.5 744,-316.5\"/>\n",
       "<text text-anchor=\"start\" x=\"661\" y=\"-299.2\" font-family=\"Helvetica,sans-Serif\" font-size=\"14.00\">BMI ≤ 26.35</text>\n",
       "<text text-anchor=\"start\" x=\"662.5\" y=\"-283.45\" font-family=\"Helvetica,sans-Serif\" font-size=\"14.00\">gini = 0.483</text>\n",
       "<text text-anchor=\"start\" x=\"653.12\" y=\"-267.7\" font-family=\"Helvetica,sans-Serif\" font-size=\"14.00\">samples = 184</text>\n",
       "<text text-anchor=\"start\" x=\"647.5\" y=\"-251.95\" font-family=\"Helvetica,sans-Serif\" font-size=\"14.00\">value = [109, 75]</text>\n",
       "<text text-anchor=\"start\" x=\"670.75\" y=\"-236.2\" font-family=\"Helvetica,sans-Serif\" font-size=\"14.00\">class = 0</text>\n",
       "</g>\n",
       "<!-- 1&#45;&gt;9 -->\n",
       "<g id=\"edge9\" class=\"edge\">\n",
       "<title>1&#45;&gt;9</title>\n",
       "<path fill=\"none\" stroke=\"black\" d=\"M697.75,-352.3C697.75,-344.46 697.75,-336.17 697.75,-328.04\"/>\n",
       "<polygon fill=\"black\" stroke=\"black\" points=\"701.25,-328.23 697.75,-318.23 694.25,-328.23 701.25,-328.23\"/>\n",
       "</g>\n",
       "<!-- 3 -->\n",
       "<g id=\"node4\" class=\"node\">\n",
       "<title>3</title>\n",
       "<path fill=\"#e89050\" stroke=\"black\" d=\"M220,-193.75C220,-193.75 127.5,-193.75 127.5,-193.75 121.5,-193.75 115.5,-187.75 115.5,-181.75 115.5,-181.75 115.5,-119 115.5,-119 115.5,-113 121.5,-107 127.5,-107 127.5,-107 220,-107 220,-107 226,-107 232,-113 232,-119 232,-119 232,-181.75 232,-181.75 232,-187.75 226,-193.75 220,-193.75\"/>\n",
       "<text text-anchor=\"start\" x=\"137\" y=\"-176.45\" font-family=\"Helvetica,sans-Serif\" font-size=\"14.00\">BMI ≤ 30.45</text>\n",
       "<text text-anchor=\"start\" x=\"138.5\" y=\"-160.7\" font-family=\"Helvetica,sans-Serif\" font-size=\"14.00\">gini = 0.189</text>\n",
       "<text text-anchor=\"start\" x=\"129.12\" y=\"-144.95\" font-family=\"Helvetica,sans-Serif\" font-size=\"14.00\">samples = 189</text>\n",
       "<text text-anchor=\"start\" x=\"123.5\" y=\"-129.2\" font-family=\"Helvetica,sans-Serif\" font-size=\"14.00\">value = [169, 20]</text>\n",
       "<text text-anchor=\"start\" x=\"146.75\" y=\"-113.45\" font-family=\"Helvetica,sans-Serif\" font-size=\"14.00\">class = 0</text>\n",
       "</g>\n",
       "<!-- 2&#45;&gt;3 -->\n",
       "<g id=\"edge3\" class=\"edge\">\n",
       "<title>2&#45;&gt;3</title>\n",
       "<path fill=\"none\" stroke=\"black\" d=\"M301.15,-234.08C282.3,-221.85 261.26,-208.18 241.79,-195.54\"/>\n",
       "<polygon fill=\"black\" stroke=\"black\" points=\"243.93,-192.77 233.64,-190.26 240.12,-198.64 243.93,-192.77\"/>\n",
       "</g>\n",
       "<!-- 6 -->\n",
       "<g id=\"node7\" class=\"node\">\n",
       "<title>6</title>\n",
       "<path fill=\"#9ccef2\" stroke=\"black\" d=\"M410.12,-193.75C410.12,-193.75 309.38,-193.75 309.38,-193.75 303.38,-193.75 297.38,-187.75 297.38,-181.75 297.38,-181.75 297.38,-119 297.38,-119 297.38,-113 303.38,-107 309.38,-107 309.38,-107 410.12,-107 410.12,-107 416.12,-107 422.12,-113 422.12,-119 422.12,-119 422.12,-181.75 422.12,-181.75 422.12,-187.75 416.12,-193.75 410.12,-193.75\"/>\n",
       "<text text-anchor=\"start\" x=\"305.38\" y=\"-176.45\" font-family=\"Helvetica,sans-Serif\" font-size=\"14.00\">Pregnancies ≤ 2.5</text>\n",
       "<text text-anchor=\"start\" x=\"324.5\" y=\"-160.7\" font-family=\"Helvetica,sans-Serif\" font-size=\"14.00\">gini = 0.444</text>\n",
       "<text text-anchor=\"start\" x=\"322.62\" y=\"-144.95\" font-family=\"Helvetica,sans-Serif\" font-size=\"14.00\">samples = 6</text>\n",
       "<text text-anchor=\"start\" x=\"320.75\" y=\"-129.2\" font-family=\"Helvetica,sans-Serif\" font-size=\"14.00\">value = [2, 4]</text>\n",
       "<text text-anchor=\"start\" x=\"332.75\" y=\"-113.45\" font-family=\"Helvetica,sans-Serif\" font-size=\"14.00\">class = 1</text>\n",
       "</g>\n",
       "<!-- 2&#45;&gt;6 -->\n",
       "<g id=\"edge6\" class=\"edge\">\n",
       "<title>2&#45;&gt;6</title>\n",
       "<path fill=\"none\" stroke=\"black\" d=\"M359.75,-229.55C359.75,-221.71 359.75,-213.42 359.75,-205.29\"/>\n",
       "<polygon fill=\"black\" stroke=\"black\" points=\"363.25,-205.48 359.75,-195.48 356.25,-205.48 363.25,-205.48\"/>\n",
       "</g>\n",
       "<!-- 4 -->\n",
       "<g id=\"node5\" class=\"node\">\n",
       "<title>4</title>\n",
       "<path fill=\"#e6853f\" stroke=\"black\" d=\"M89.5,-71C89.5,-71 12,-71 12,-71 6,-71 0,-65 0,-59 0,-59 0,-12 0,-12 0,-6 6,0 12,0 12,0 89.5,0 89.5,0 95.5,0 101.5,-6 101.5,-12 101.5,-12 101.5,-59 101.5,-59 101.5,-65 95.5,-71 89.5,-71\"/>\n",
       "<text text-anchor=\"start\" x=\"19.25\" y=\"-53.7\" font-family=\"Helvetica,sans-Serif\" font-size=\"14.00\">gini = 0.06</text>\n",
       "<text text-anchor=\"start\" x=\"9.88\" y=\"-37.95\" font-family=\"Helvetica,sans-Serif\" font-size=\"14.00\">samples = 97</text>\n",
       "<text text-anchor=\"start\" x=\"8\" y=\"-22.2\" font-family=\"Helvetica,sans-Serif\" font-size=\"14.00\">value = [94, 3]</text>\n",
       "<text text-anchor=\"start\" x=\"23.75\" y=\"-6.45\" font-family=\"Helvetica,sans-Serif\" font-size=\"14.00\">class = 0</text>\n",
       "</g>\n",
       "<!-- 3&#45;&gt;4 -->\n",
       "<g id=\"edge4\" class=\"edge\">\n",
       "<title>3&#45;&gt;4</title>\n",
       "<path fill=\"none\" stroke=\"black\" d=\"M127.25,-106.7C117.26,-97.53 106.7,-87.85 96.73,-78.7\"/>\n",
       "<polygon fill=\"black\" stroke=\"black\" points=\"99.37,-76.36 89.63,-72.18 94.63,-81.52 99.37,-76.36\"/>\n",
       "</g>\n",
       "<!-- 5 -->\n",
       "<g id=\"node6\" class=\"node\">\n",
       "<title>5</title>\n",
       "<path fill=\"#eb9e66\" stroke=\"black\" d=\"M216.25,-71C216.25,-71 131.25,-71 131.25,-71 125.25,-71 119.25,-65 119.25,-59 119.25,-59 119.25,-12 119.25,-12 119.25,-6 125.25,0 131.25,0 131.25,0 216.25,0 216.25,0 222.25,0 228.25,-6 228.25,-12 228.25,-12 228.25,-59 228.25,-59 228.25,-65 222.25,-71 216.25,-71\"/>\n",
       "<text text-anchor=\"start\" x=\"138.5\" y=\"-53.7\" font-family=\"Helvetica,sans-Serif\" font-size=\"14.00\">gini = 0.301</text>\n",
       "<text text-anchor=\"start\" x=\"132.88\" y=\"-37.95\" font-family=\"Helvetica,sans-Serif\" font-size=\"14.00\">samples = 92</text>\n",
       "<text text-anchor=\"start\" x=\"127.25\" y=\"-22.2\" font-family=\"Helvetica,sans-Serif\" font-size=\"14.00\">value = [75, 17]</text>\n",
       "<text text-anchor=\"start\" x=\"146.75\" y=\"-6.45\" font-family=\"Helvetica,sans-Serif\" font-size=\"14.00\">class = 0</text>\n",
       "</g>\n",
       "<!-- 3&#45;&gt;5 -->\n",
       "<g id=\"edge5\" class=\"edge\">\n",
       "<title>3&#45;&gt;5</title>\n",
       "<path fill=\"none\" stroke=\"black\" d=\"M173.75,-106.7C173.75,-98.82 173.75,-90.55 173.75,-82.57\"/>\n",
       "<polygon fill=\"black\" stroke=\"black\" points=\"177.25,-82.67 173.75,-72.67 170.25,-82.67 177.25,-82.67\"/>\n",
       "</g>\n",
       "<!-- 7 -->\n",
       "<g id=\"node8\" class=\"node\">\n",
       "<title>7</title>\n",
       "<path fill=\"#399de5\" stroke=\"black\" d=\"M328.75,-71C328.75,-71 258.75,-71 258.75,-71 252.75,-71 246.75,-65 246.75,-59 246.75,-59 246.75,-12 246.75,-12 246.75,-6 252.75,0 258.75,0 258.75,0 328.75,0 328.75,0 334.75,0 340.75,-6 340.75,-12 340.75,-12 340.75,-59 340.75,-59 340.75,-65 334.75,-71 328.75,-71\"/>\n",
       "<text text-anchor=\"start\" x=\"266\" y=\"-53.7\" font-family=\"Helvetica,sans-Serif\" font-size=\"14.00\">gini = 0.0</text>\n",
       "<text text-anchor=\"start\" x=\"256.62\" y=\"-37.95\" font-family=\"Helvetica,sans-Serif\" font-size=\"14.00\">samples = 4</text>\n",
       "<text text-anchor=\"start\" x=\"254.75\" y=\"-22.2\" font-family=\"Helvetica,sans-Serif\" font-size=\"14.00\">value = [0, 4]</text>\n",
       "<text text-anchor=\"start\" x=\"266.75\" y=\"-6.45\" font-family=\"Helvetica,sans-Serif\" font-size=\"14.00\">class = 1</text>\n",
       "</g>\n",
       "<!-- 6&#45;&gt;7 -->\n",
       "<g id=\"edge7\" class=\"edge\">\n",
       "<title>6&#45;&gt;7</title>\n",
       "<path fill=\"none\" stroke=\"black\" d=\"M334.8,-106.7C329.87,-98.27 324.68,-89.39 319.71,-80.9\"/>\n",
       "<polygon fill=\"black\" stroke=\"black\" points=\"322.85,-79.33 314.78,-72.46 316.81,-82.86 322.85,-79.33\"/>\n",
       "</g>\n",
       "<!-- 8 -->\n",
       "<g id=\"node9\" class=\"node\">\n",
       "<title>8</title>\n",
       "<path fill=\"#e58139\" stroke=\"black\" d=\"M440.75,-71C440.75,-71 370.75,-71 370.75,-71 364.75,-71 358.75,-65 358.75,-59 358.75,-59 358.75,-12 358.75,-12 358.75,-6 364.75,0 370.75,0 370.75,0 440.75,0 440.75,0 446.75,0 452.75,-6 452.75,-12 452.75,-12 452.75,-59 452.75,-59 452.75,-65 446.75,-71 440.75,-71\"/>\n",
       "<text text-anchor=\"start\" x=\"378\" y=\"-53.7\" font-family=\"Helvetica,sans-Serif\" font-size=\"14.00\">gini = 0.0</text>\n",
       "<text text-anchor=\"start\" x=\"368.62\" y=\"-37.95\" font-family=\"Helvetica,sans-Serif\" font-size=\"14.00\">samples = 2</text>\n",
       "<text text-anchor=\"start\" x=\"366.75\" y=\"-22.2\" font-family=\"Helvetica,sans-Serif\" font-size=\"14.00\">value = [2, 0]</text>\n",
       "<text text-anchor=\"start\" x=\"378.75\" y=\"-6.45\" font-family=\"Helvetica,sans-Serif\" font-size=\"14.00\">class = 0</text>\n",
       "</g>\n",
       "<!-- 6&#45;&gt;8 -->\n",
       "<g id=\"edge8\" class=\"edge\">\n",
       "<title>6&#45;&gt;8</title>\n",
       "<path fill=\"none\" stroke=\"black\" d=\"M377.14,-106.7C380.47,-98.54 383.96,-89.97 387.32,-81.73\"/>\n",
       "<polygon fill=\"black\" stroke=\"black\" points=\"390.52,-83.14 391.05,-72.56 384.04,-80.5 390.52,-83.14\"/>\n",
       "</g>\n",
       "<!-- 10 -->\n",
       "<g id=\"node11\" class=\"node\">\n",
       "<title>10</title>\n",
       "<path fill=\"#e78946\" stroke=\"black\" d=\"M684.62,-193.75C684.62,-193.75 562.88,-193.75 562.88,-193.75 556.88,-193.75 550.88,-187.75 550.88,-181.75 550.88,-181.75 550.88,-119 550.88,-119 550.88,-113 556.88,-107 562.88,-107 562.88,-107 684.62,-107 684.62,-107 690.62,-107 696.62,-113 696.62,-119 696.62,-119 696.62,-181.75 696.62,-181.75 696.62,-187.75 690.62,-193.75 684.62,-193.75\"/>\n",
       "<text text-anchor=\"start\" x=\"558.88\" y=\"-176.45\" font-family=\"Helvetica,sans-Serif\" font-size=\"14.00\">BloodPressure ≤ 94.0</text>\n",
       "<text text-anchor=\"start\" x=\"588.88\" y=\"-160.7\" font-family=\"Helvetica,sans-Serif\" font-size=\"14.00\">gini = 0.117</text>\n",
       "<text text-anchor=\"start\" x=\"582.88\" y=\"-144.95\" font-family=\"Helvetica,sans-Serif\" font-size=\"14.00\">samples = 32</text>\n",
       "<text text-anchor=\"start\" x=\"581\" y=\"-129.2\" font-family=\"Helvetica,sans-Serif\" font-size=\"14.00\">value = [30, 2]</text>\n",
       "<text text-anchor=\"start\" x=\"596.75\" y=\"-113.45\" font-family=\"Helvetica,sans-Serif\" font-size=\"14.00\">class = 0</text>\n",
       "</g>\n",
       "<!-- 9&#45;&gt;10 -->\n",
       "<g id=\"edge10\" class=\"edge\">\n",
       "<title>9&#45;&gt;10</title>\n",
       "<path fill=\"none\" stroke=\"black\" d=\"M671.66,-229.55C666.52,-221.17 661.07,-212.28 655.76,-203.61\"/>\n",
       "<polygon fill=\"black\" stroke=\"black\" points=\"658.85,-201.96 650.64,-195.26 652.89,-205.62 658.85,-201.96\"/>\n",
       "</g>\n",
       "<!-- 13 -->\n",
       "<g id=\"node14\" class=\"node\">\n",
       "<title>13</title>\n",
       "<path fill=\"#fdf5f0\" stroke=\"black\" d=\"M816.5,-193.75C816.5,-193.75 727,-193.75 727,-193.75 721,-193.75 715,-187.75 715,-181.75 715,-181.75 715,-119 715,-119 715,-113 721,-107 727,-107 727,-107 816.5,-107 816.5,-107 822.5,-107 828.5,-113 828.5,-119 828.5,-119 828.5,-181.75 828.5,-181.75 828.5,-187.75 822.5,-193.75 816.5,-193.75\"/>\n",
       "<text text-anchor=\"start\" x=\"723\" y=\"-176.45\" font-family=\"Helvetica,sans-Serif\" font-size=\"14.00\">Glucose ≤ 111.5</text>\n",
       "<text text-anchor=\"start\" x=\"736.5\" y=\"-160.7\" font-family=\"Helvetica,sans-Serif\" font-size=\"14.00\">gini = 0.499</text>\n",
       "<text text-anchor=\"start\" x=\"727.12\" y=\"-144.95\" font-family=\"Helvetica,sans-Serif\" font-size=\"14.00\">samples = 152</text>\n",
       "<text text-anchor=\"start\" x=\"725.25\" y=\"-129.2\" font-family=\"Helvetica,sans-Serif\" font-size=\"14.00\">value = [79, 73]</text>\n",
       "<text text-anchor=\"start\" x=\"744.75\" y=\"-113.45\" font-family=\"Helvetica,sans-Serif\" font-size=\"14.00\">class = 0</text>\n",
       "</g>\n",
       "<!-- 9&#45;&gt;13 -->\n",
       "<g id=\"edge13\" class=\"edge\">\n",
       "<title>9&#45;&gt;13</title>\n",
       "<path fill=\"none\" stroke=\"black\" d=\"M723.84,-229.55C728.98,-221.17 734.43,-212.28 739.74,-203.61\"/>\n",
       "<polygon fill=\"black\" stroke=\"black\" points=\"742.61,-205.62 744.86,-195.26 736.65,-201.96 742.61,-205.62\"/>\n",
       "</g>\n",
       "<!-- 11 -->\n",
       "<g id=\"node12\" class=\"node\">\n",
       "<title>11</title>\n",
       "<path fill=\"#e68540\" stroke=\"black\" d=\"M560.5,-71C560.5,-71 483,-71 483,-71 477,-71 471,-65 471,-59 471,-59 471,-12 471,-12 471,-6 477,0 483,0 483,0 560.5,0 560.5,0 566.5,0 572.5,-6 572.5,-12 572.5,-12 572.5,-59 572.5,-59 572.5,-65 566.5,-71 560.5,-71\"/>\n",
       "<text text-anchor=\"start\" x=\"486.5\" y=\"-53.7\" font-family=\"Helvetica,sans-Serif\" font-size=\"14.00\">gini = 0.064</text>\n",
       "<text text-anchor=\"start\" x=\"480.88\" y=\"-37.95\" font-family=\"Helvetica,sans-Serif\" font-size=\"14.00\">samples = 30</text>\n",
       "<text text-anchor=\"start\" x=\"479\" y=\"-22.2\" font-family=\"Helvetica,sans-Serif\" font-size=\"14.00\">value = [29, 1]</text>\n",
       "<text text-anchor=\"start\" x=\"494.75\" y=\"-6.45\" font-family=\"Helvetica,sans-Serif\" font-size=\"14.00\">class = 0</text>\n",
       "</g>\n",
       "<!-- 10&#45;&gt;11 -->\n",
       "<g id=\"edge11\" class=\"edge\">\n",
       "<title>10&#45;&gt;11</title>\n",
       "<path fill=\"none\" stroke=\"black\" d=\"M585.19,-106.7C577.15,-97.81 568.67,-88.43 560.63,-79.52\"/>\n",
       "<polygon fill=\"black\" stroke=\"black\" points=\"563.38,-77.35 554.08,-72.28 558.19,-82.05 563.38,-77.35\"/>\n",
       "</g>\n",
       "<!-- 12 -->\n",
       "<g id=\"node13\" class=\"node\">\n",
       "<title>12</title>\n",
       "<path fill=\"#ffffff\" stroke=\"black\" d=\"M672.75,-71C672.75,-71 602.75,-71 602.75,-71 596.75,-71 590.75,-65 590.75,-59 590.75,-59 590.75,-12 590.75,-12 590.75,-6 596.75,0 602.75,0 602.75,0 672.75,0 672.75,0 678.75,0 684.75,-6 684.75,-12 684.75,-12 684.75,-59 684.75,-59 684.75,-65 678.75,-71 672.75,-71\"/>\n",
       "<text text-anchor=\"start\" x=\"610\" y=\"-53.7\" font-family=\"Helvetica,sans-Serif\" font-size=\"14.00\">gini = 0.5</text>\n",
       "<text text-anchor=\"start\" x=\"600.62\" y=\"-37.95\" font-family=\"Helvetica,sans-Serif\" font-size=\"14.00\">samples = 2</text>\n",
       "<text text-anchor=\"start\" x=\"598.75\" y=\"-22.2\" font-family=\"Helvetica,sans-Serif\" font-size=\"14.00\">value = [1, 1]</text>\n",
       "<text text-anchor=\"start\" x=\"610.75\" y=\"-6.45\" font-family=\"Helvetica,sans-Serif\" font-size=\"14.00\">class = 0</text>\n",
       "</g>\n",
       "<!-- 10&#45;&gt;12 -->\n",
       "<g id=\"edge12\" class=\"edge\">\n",
       "<title>10&#45;&gt;12</title>\n",
       "<path fill=\"none\" stroke=\"black\" d=\"M629.04,-106.7C630.02,-98.82 631.05,-90.55 632.04,-82.57\"/>\n",
       "<polygon fill=\"black\" stroke=\"black\" points=\"635.51,-83.01 633.27,-72.66 628.56,-82.15 635.51,-83.01\"/>\n",
       "</g>\n",
       "<!-- 14 -->\n",
       "<g id=\"node15\" class=\"node\">\n",
       "<title>14</title>\n",
       "<path fill=\"#f1b992\" stroke=\"black\" d=\"M800.25,-71C800.25,-71 715.25,-71 715.25,-71 709.25,-71 703.25,-65 703.25,-59 703.25,-59 703.25,-12 703.25,-12 703.25,-6 709.25,0 715.25,0 715.25,0 800.25,0 800.25,0 806.25,0 812.25,-6 812.25,-12 812.25,-12 812.25,-59 812.25,-59 812.25,-65 806.25,-71 800.25,-71\"/>\n",
       "<text text-anchor=\"start\" x=\"722.5\" y=\"-53.7\" font-family=\"Helvetica,sans-Serif\" font-size=\"14.00\">gini = 0.427</text>\n",
       "<text text-anchor=\"start\" x=\"716.88\" y=\"-37.95\" font-family=\"Helvetica,sans-Serif\" font-size=\"14.00\">samples = 55</text>\n",
       "<text text-anchor=\"start\" x=\"711.25\" y=\"-22.2\" font-family=\"Helvetica,sans-Serif\" font-size=\"14.00\">value = [38, 17]</text>\n",
       "<text text-anchor=\"start\" x=\"730.75\" y=\"-6.45\" font-family=\"Helvetica,sans-Serif\" font-size=\"14.00\">class = 0</text>\n",
       "</g>\n",
       "<!-- 13&#45;&gt;14 -->\n",
       "<g id=\"edge14\" class=\"edge\">\n",
       "<title>13&#45;&gt;14</title>\n",
       "<path fill=\"none\" stroke=\"black\" d=\"M766.46,-106.7C765.48,-98.82 764.45,-90.55 763.46,-82.57\"/>\n",
       "<polygon fill=\"black\" stroke=\"black\" points=\"766.94,-82.15 762.23,-72.66 759.99,-83.01 766.94,-82.15\"/>\n",
       "</g>\n",
       "<!-- 15 -->\n",
       "<g id=\"node16\" class=\"node\">\n",
       "<title>15</title>\n",
       "<path fill=\"#cae5f8\" stroke=\"black\" d=\"M949.5,-71C949.5,-71 842,-71 842,-71 836,-71 830,-65 830,-59 830,-59 830,-12 830,-12 830,-6 836,0 842,0 842,0 949.5,0 949.5,0 955.5,0 961.5,-6 961.5,-12 961.5,-12 961.5,-59 961.5,-59 961.5,-65 955.5,-71 949.5,-71\"/>\n",
       "<text text-anchor=\"start\" x=\"860.5\" y=\"-53.7\" font-family=\"Helvetica,sans-Serif\" font-size=\"14.00\">gini = 0.488</text>\n",
       "<text text-anchor=\"start\" x=\"854.88\" y=\"-37.95\" font-family=\"Helvetica,sans-Serif\" font-size=\"14.00\">samples = 97</text>\n",
       "<text text-anchor=\"start\" x=\"838\" y=\"-22.2\" font-family=\"Helvetica,sans-Serif\" font-size=\"14.00\">value = [41.0, 56.0]</text>\n",
       "<text text-anchor=\"start\" x=\"868.75\" y=\"-6.45\" font-family=\"Helvetica,sans-Serif\" font-size=\"14.00\">class = 1</text>\n",
       "</g>\n",
       "<!-- 13&#45;&gt;15 -->\n",
       "<g id=\"edge15\" class=\"edge\">\n",
       "<title>13&#45;&gt;15</title>\n",
       "<path fill=\"none\" stroke=\"black\" d=\"M818.63,-106.7C828.7,-97.53 839.34,-87.85 849.4,-78.7\"/>\n",
       "<polygon fill=\"black\" stroke=\"black\" points=\"851.52,-81.5 856.56,-72.18 846.81,-76.32 851.52,-81.5\"/>\n",
       "</g>\n",
       "<!-- 17 -->\n",
       "<g id=\"node18\" class=\"node\">\n",
       "<title>17</title>\n",
       "<path fill=\"#f8dbc6\" stroke=\"black\" d=\"M1063.62,-316.5C1063.62,-316.5 989.88,-316.5 989.88,-316.5 983.88,-316.5 977.88,-310.5 977.88,-304.5 977.88,-304.5 977.88,-241.75 977.88,-241.75 977.88,-235.75 983.88,-229.75 989.88,-229.75 989.88,-229.75 1063.62,-229.75 1063.62,-229.75 1069.62,-229.75 1075.62,-235.75 1075.62,-241.75 1075.62,-241.75 1075.62,-304.5 1075.62,-304.5 1075.62,-310.5 1069.62,-316.5 1063.62,-316.5\"/>\n",
       "<text text-anchor=\"start\" x=\"990\" y=\"-299.2\" font-family=\"Helvetica,sans-Serif\" font-size=\"14.00\">BMI ≤ 25.35</text>\n",
       "<text text-anchor=\"start\" x=\"991.5\" y=\"-283.45\" font-family=\"Helvetica,sans-Serif\" font-size=\"14.00\">gini = 0.486</text>\n",
       "<text text-anchor=\"start\" x=\"985.88\" y=\"-267.7\" font-family=\"Helvetica,sans-Serif\" font-size=\"14.00\">samples = 12</text>\n",
       "<text text-anchor=\"start\" x=\"987.75\" y=\"-251.95\" font-family=\"Helvetica,sans-Serif\" font-size=\"14.00\">value = [7, 5]</text>\n",
       "<text text-anchor=\"start\" x=\"999.75\" y=\"-236.2\" font-family=\"Helvetica,sans-Serif\" font-size=\"14.00\">class = 0</text>\n",
       "</g>\n",
       "<!-- 16&#45;&gt;17 -->\n",
       "<g id=\"edge17\" class=\"edge\">\n",
       "<title>16&#45;&gt;17</title>\n",
       "<path fill=\"none\" stroke=\"black\" d=\"M1026.75,-352.3C1026.75,-344.46 1026.75,-336.17 1026.75,-328.04\"/>\n",
       "<polygon fill=\"black\" stroke=\"black\" points=\"1030.25,-328.23 1026.75,-318.23 1023.25,-328.23 1030.25,-328.23\"/>\n",
       "</g>\n",
       "<!-- 22 -->\n",
       "<g id=\"node23\" class=\"node\">\n",
       "<title>22</title>\n",
       "<path fill=\"#53aae8\" stroke=\"black\" d=\"M1351.62,-316.5C1351.62,-316.5 1271.88,-316.5 1271.88,-316.5 1265.88,-316.5 1259.88,-310.5 1259.88,-304.5 1259.88,-304.5 1259.88,-241.75 1259.88,-241.75 1259.88,-235.75 1265.88,-229.75 1271.88,-229.75 1271.88,-229.75 1351.62,-229.75 1351.62,-229.75 1357.62,-229.75 1363.62,-235.75 1363.62,-241.75 1363.62,-241.75 1363.62,-304.5 1363.62,-304.5 1363.62,-310.5 1357.62,-316.5 1351.62,-316.5\"/>\n",
       "<text text-anchor=\"start\" x=\"1267.88\" y=\"-299.2\" font-family=\"Helvetica,sans-Serif\" font-size=\"14.00\">Insulin ≤ 542.5</text>\n",
       "<text text-anchor=\"start\" x=\"1276.5\" y=\"-283.45\" font-family=\"Helvetica,sans-Serif\" font-size=\"14.00\">gini = 0.205</text>\n",
       "<text text-anchor=\"start\" x=\"1270.88\" y=\"-267.7\" font-family=\"Helvetica,sans-Serif\" font-size=\"14.00\">samples = 69</text>\n",
       "<text text-anchor=\"start\" x=\"1269\" y=\"-251.95\" font-family=\"Helvetica,sans-Serif\" font-size=\"14.00\">value = [8, 61]</text>\n",
       "<text text-anchor=\"start\" x=\"1284.75\" y=\"-236.2\" font-family=\"Helvetica,sans-Serif\" font-size=\"14.00\">class = 1</text>\n",
       "</g>\n",
       "<!-- 16&#45;&gt;22 -->\n",
       "<g id=\"edge22\" class=\"edge\">\n",
       "<title>16&#45;&gt;22</title>\n",
       "<path fill=\"none\" stroke=\"black\" d=\"M1081.7,-371.59C1129.72,-351.25 1199.4,-321.73 1249.48,-300.51\"/>\n",
       "<polygon fill=\"black\" stroke=\"black\" points=\"1250.61,-303.83 1258.46,-296.7 1247.88,-297.38 1250.61,-303.83\"/>\n",
       "</g>\n",
       "<!-- 18 -->\n",
       "<g id=\"node19\" class=\"node\">\n",
       "<title>18</title>\n",
       "<path fill=\"#399de5\" stroke=\"black\" d=\"M1005.75,-185.88C1005.75,-185.88 935.75,-185.88 935.75,-185.88 929.75,-185.88 923.75,-179.88 923.75,-173.88 923.75,-173.88 923.75,-126.88 923.75,-126.88 923.75,-120.88 929.75,-114.88 935.75,-114.88 935.75,-114.88 1005.75,-114.88 1005.75,-114.88 1011.75,-114.88 1017.75,-120.88 1017.75,-126.88 1017.75,-126.88 1017.75,-173.88 1017.75,-173.88 1017.75,-179.88 1011.75,-185.88 1005.75,-185.88\"/>\n",
       "<text text-anchor=\"start\" x=\"943\" y=\"-168.57\" font-family=\"Helvetica,sans-Serif\" font-size=\"14.00\">gini = 0.0</text>\n",
       "<text text-anchor=\"start\" x=\"933.62\" y=\"-152.82\" font-family=\"Helvetica,sans-Serif\" font-size=\"14.00\">samples = 3</text>\n",
       "<text text-anchor=\"start\" x=\"931.75\" y=\"-137.07\" font-family=\"Helvetica,sans-Serif\" font-size=\"14.00\">value = [0, 3]</text>\n",
       "<text text-anchor=\"start\" x=\"943.75\" y=\"-121.33\" font-family=\"Helvetica,sans-Serif\" font-size=\"14.00\">class = 1</text>\n",
       "</g>\n",
       "<!-- 17&#45;&gt;18 -->\n",
       "<g id=\"edge18\" class=\"edge\">\n",
       "<title>17&#45;&gt;18</title>\n",
       "<path fill=\"none\" stroke=\"black\" d=\"M1007.01,-229.55C1002,-218.75 996.6,-207.11 991.54,-196.19\"/>\n",
       "<polygon fill=\"black\" stroke=\"black\" points=\"994.83,-194.98 987.45,-187.38 988.48,-197.92 994.83,-194.98\"/>\n",
       "</g>\n",
       "<!-- 19 -->\n",
       "<g id=\"node20\" class=\"node\">\n",
       "<title>19</title>\n",
       "<path fill=\"#eca572\" stroke=\"black\" d=\"M1117.75,-193.75C1117.75,-193.75 1047.75,-193.75 1047.75,-193.75 1041.75,-193.75 1035.75,-187.75 1035.75,-181.75 1035.75,-181.75 1035.75,-119 1035.75,-119 1035.75,-113 1041.75,-107 1047.75,-107 1047.75,-107 1117.75,-107 1117.75,-107 1123.75,-107 1129.75,-113 1129.75,-119 1129.75,-119 1129.75,-181.75 1129.75,-181.75 1129.75,-187.75 1123.75,-193.75 1117.75,-193.75\"/>\n",
       "<text text-anchor=\"start\" x=\"1050.12\" y=\"-176.45\" font-family=\"Helvetica,sans-Serif\" font-size=\"14.00\">Age ≤ 36.5</text>\n",
       "<text text-anchor=\"start\" x=\"1047.5\" y=\"-160.7\" font-family=\"Helvetica,sans-Serif\" font-size=\"14.00\">gini = 0.346</text>\n",
       "<text text-anchor=\"start\" x=\"1045.62\" y=\"-144.95\" font-family=\"Helvetica,sans-Serif\" font-size=\"14.00\">samples = 9</text>\n",
       "<text text-anchor=\"start\" x=\"1043.75\" y=\"-129.2\" font-family=\"Helvetica,sans-Serif\" font-size=\"14.00\">value = [7, 2]</text>\n",
       "<text text-anchor=\"start\" x=\"1055.75\" y=\"-113.45\" font-family=\"Helvetica,sans-Serif\" font-size=\"14.00\">class = 0</text>\n",
       "</g>\n",
       "<!-- 17&#45;&gt;19 -->\n",
       "<g id=\"edge19\" class=\"edge\">\n",
       "<title>17&#45;&gt;19</title>\n",
       "<path fill=\"none\" stroke=\"black\" d=\"M1046.49,-229.55C1050.3,-221.35 1054.33,-212.66 1058.26,-204.17\"/>\n",
       "<polygon fill=\"black\" stroke=\"black\" points=\"1061.33,-205.89 1062.36,-195.34 1054.98,-202.94 1061.33,-205.89\"/>\n",
       "</g>\n",
       "<!-- 20 -->\n",
       "<g id=\"node21\" class=\"node\">\n",
       "<title>20</title>\n",
       "<path fill=\"#9ccef2\" stroke=\"black\" d=\"M1061.75,-71C1061.75,-71 991.75,-71 991.75,-71 985.75,-71 979.75,-65 979.75,-59 979.75,-59 979.75,-12 979.75,-12 979.75,-6 985.75,0 991.75,0 991.75,0 1061.75,0 1061.75,0 1067.75,0 1073.75,-6 1073.75,-12 1073.75,-12 1073.75,-59 1073.75,-59 1073.75,-65 1067.75,-71 1061.75,-71\"/>\n",
       "<text text-anchor=\"start\" x=\"991.5\" y=\"-53.7\" font-family=\"Helvetica,sans-Serif\" font-size=\"14.00\">gini = 0.444</text>\n",
       "<text text-anchor=\"start\" x=\"989.62\" y=\"-37.95\" font-family=\"Helvetica,sans-Serif\" font-size=\"14.00\">samples = 3</text>\n",
       "<text text-anchor=\"start\" x=\"987.75\" y=\"-22.2\" font-family=\"Helvetica,sans-Serif\" font-size=\"14.00\">value = [1, 2]</text>\n",
       "<text text-anchor=\"start\" x=\"999.75\" y=\"-6.45\" font-family=\"Helvetica,sans-Serif\" font-size=\"14.00\">class = 1</text>\n",
       "</g>\n",
       "<!-- 19&#45;&gt;20 -->\n",
       "<g id=\"edge20\" class=\"edge\">\n",
       "<title>19&#45;&gt;20</title>\n",
       "<path fill=\"none\" stroke=\"black\" d=\"M1061.58,-106.7C1057.48,-98.45 1053.18,-89.78 1049.05,-81.46\"/>\n",
       "<polygon fill=\"black\" stroke=\"black\" points=\"1052.2,-79.92 1044.62,-72.51 1045.93,-83.03 1052.2,-79.92\"/>\n",
       "</g>\n",
       "<!-- 21 -->\n",
       "<g id=\"node22\" class=\"node\">\n",
       "<title>21</title>\n",
       "<path fill=\"#e58139\" stroke=\"black\" d=\"M1173.75,-71C1173.75,-71 1103.75,-71 1103.75,-71 1097.75,-71 1091.75,-65 1091.75,-59 1091.75,-59 1091.75,-12 1091.75,-12 1091.75,-6 1097.75,0 1103.75,0 1103.75,0 1173.75,0 1173.75,0 1179.75,0 1185.75,-6 1185.75,-12 1185.75,-12 1185.75,-59 1185.75,-59 1185.75,-65 1179.75,-71 1173.75,-71\"/>\n",
       "<text text-anchor=\"start\" x=\"1111\" y=\"-53.7\" font-family=\"Helvetica,sans-Serif\" font-size=\"14.00\">gini = 0.0</text>\n",
       "<text text-anchor=\"start\" x=\"1101.62\" y=\"-37.95\" font-family=\"Helvetica,sans-Serif\" font-size=\"14.00\">samples = 6</text>\n",
       "<text text-anchor=\"start\" x=\"1099.75\" y=\"-22.2\" font-family=\"Helvetica,sans-Serif\" font-size=\"14.00\">value = [6, 0]</text>\n",
       "<text text-anchor=\"start\" x=\"1111.75\" y=\"-6.45\" font-family=\"Helvetica,sans-Serif\" font-size=\"14.00\">class = 0</text>\n",
       "</g>\n",
       "<!-- 19&#45;&gt;21 -->\n",
       "<g id=\"edge21\" class=\"edge\">\n",
       "<title>19&#45;&gt;21</title>\n",
       "<path fill=\"none\" stroke=\"black\" d=\"M1103.92,-106.7C1108.02,-98.45 1112.32,-89.78 1116.45,-81.46\"/>\n",
       "<polygon fill=\"black\" stroke=\"black\" points=\"1119.57,-83.03 1120.88,-72.51 1113.3,-79.92 1119.57,-83.03\"/>\n",
       "</g>\n",
       "<!-- 23 -->\n",
       "<g id=\"node24\" class=\"node\">\n",
       "<title>23</title>\n",
       "<path fill=\"#4da7e8\" stroke=\"black\" d=\"M1350.5,-193.75C1350.5,-193.75 1273,-193.75 1273,-193.75 1267,-193.75 1261,-187.75 1261,-181.75 1261,-181.75 1261,-119 1261,-119 1261,-113 1267,-107 1273,-107 1273,-107 1350.5,-107 1350.5,-107 1356.5,-107 1362.5,-113 1362.5,-119 1362.5,-119 1362.5,-181.75 1362.5,-181.75 1362.5,-187.75 1356.5,-193.75 1350.5,-193.75\"/>\n",
       "<text text-anchor=\"start\" x=\"1279.12\" y=\"-176.45\" font-family=\"Helvetica,sans-Serif\" font-size=\"14.00\">Age ≤ 47.5</text>\n",
       "<text text-anchor=\"start\" x=\"1276.5\" y=\"-160.7\" font-family=\"Helvetica,sans-Serif\" font-size=\"14.00\">gini = 0.165</text>\n",
       "<text text-anchor=\"start\" x=\"1270.88\" y=\"-144.95\" font-family=\"Helvetica,sans-Serif\" font-size=\"14.00\">samples = 66</text>\n",
       "<text text-anchor=\"start\" x=\"1269\" y=\"-129.2\" font-family=\"Helvetica,sans-Serif\" font-size=\"14.00\">value = [6, 60]</text>\n",
       "<text text-anchor=\"start\" x=\"1284.75\" y=\"-113.45\" font-family=\"Helvetica,sans-Serif\" font-size=\"14.00\">class = 1</text>\n",
       "</g>\n",
       "<!-- 22&#45;&gt;23 -->\n",
       "<g id=\"edge23\" class=\"edge\">\n",
       "<title>22&#45;&gt;23</title>\n",
       "<path fill=\"none\" stroke=\"black\" d=\"M1311.75,-229.55C1311.75,-221.71 1311.75,-213.42 1311.75,-205.29\"/>\n",
       "<polygon fill=\"black\" stroke=\"black\" points=\"1315.25,-205.48 1311.75,-195.48 1308.25,-205.48 1315.25,-205.48\"/>\n",
       "</g>\n",
       "<!-- 26 -->\n",
       "<g id=\"node27\" class=\"node\">\n",
       "<title>26</title>\n",
       "<path fill=\"#f2c09c\" stroke=\"black\" d=\"M1520.75,-193.75C1520.75,-193.75 1450.75,-193.75 1450.75,-193.75 1444.75,-193.75 1438.75,-187.75 1438.75,-181.75 1438.75,-181.75 1438.75,-119 1438.75,-119 1438.75,-113 1444.75,-107 1450.75,-107 1450.75,-107 1520.75,-107 1520.75,-107 1526.75,-107 1532.75,-113 1532.75,-119 1532.75,-119 1532.75,-181.75 1532.75,-181.75 1532.75,-187.75 1526.75,-193.75 1520.75,-193.75\"/>\n",
       "<text text-anchor=\"start\" x=\"1453.12\" y=\"-176.45\" font-family=\"Helvetica,sans-Serif\" font-size=\"14.00\">Age ≤ 46.5</text>\n",
       "<text text-anchor=\"start\" x=\"1450.5\" y=\"-160.7\" font-family=\"Helvetica,sans-Serif\" font-size=\"14.00\">gini = 0.444</text>\n",
       "<text text-anchor=\"start\" x=\"1448.62\" y=\"-144.95\" font-family=\"Helvetica,sans-Serif\" font-size=\"14.00\">samples = 3</text>\n",
       "<text text-anchor=\"start\" x=\"1446.75\" y=\"-129.2\" font-family=\"Helvetica,sans-Serif\" font-size=\"14.00\">value = [2, 1]</text>\n",
       "<text text-anchor=\"start\" x=\"1458.75\" y=\"-113.45\" font-family=\"Helvetica,sans-Serif\" font-size=\"14.00\">class = 0</text>\n",
       "</g>\n",
       "<!-- 22&#45;&gt;26 -->\n",
       "<g id=\"edge26\" class=\"edge\">\n",
       "<title>22&#45;&gt;26</title>\n",
       "<path fill=\"none\" stroke=\"black\" d=\"M1363.96,-235.9C1384.44,-221.68 1408.01,-205.32 1428.92,-190.81\"/>\n",
       "<polygon fill=\"black\" stroke=\"black\" points=\"1430.86,-193.73 1437.08,-185.15 1426.87,-187.97 1430.86,-193.73\"/>\n",
       "</g>\n",
       "<!-- 24 -->\n",
       "<g id=\"node25\" class=\"node\">\n",
       "<title>24</title>\n",
       "<path fill=\"#44a3e6\" stroke=\"black\" d=\"M1293.5,-71C1293.5,-71 1216,-71 1216,-71 1210,-71 1204,-65 1204,-59 1204,-59 1204,-12 1204,-12 1204,-6 1210,0 1216,0 1216,0 1293.5,0 1293.5,0 1299.5,0 1305.5,-6 1305.5,-12 1305.5,-12 1305.5,-59 1305.5,-59 1305.5,-65 1299.5,-71 1293.5,-71\"/>\n",
       "<text text-anchor=\"start\" x=\"1219.5\" y=\"-53.7\" font-family=\"Helvetica,sans-Serif\" font-size=\"14.00\">gini = 0.103</text>\n",
       "<text text-anchor=\"start\" x=\"1213.88\" y=\"-37.95\" font-family=\"Helvetica,sans-Serif\" font-size=\"14.00\">samples = 55</text>\n",
       "<text text-anchor=\"start\" x=\"1212\" y=\"-22.2\" font-family=\"Helvetica,sans-Serif\" font-size=\"14.00\">value = [3, 52]</text>\n",
       "<text text-anchor=\"start\" x=\"1227.75\" y=\"-6.45\" font-family=\"Helvetica,sans-Serif\" font-size=\"14.00\">class = 1</text>\n",
       "</g>\n",
       "<!-- 23&#45;&gt;24 -->\n",
       "<g id=\"edge24\" class=\"edge\">\n",
       "<title>23&#45;&gt;24</title>\n",
       "<path fill=\"none\" stroke=\"black\" d=\"M1290.2,-106.7C1285.99,-98.36 1281.56,-89.59 1277.31,-81.18\"/>\n",
       "<polygon fill=\"black\" stroke=\"black\" points=\"1280.57,-79.86 1272.93,-72.51 1274.32,-83.01 1280.57,-79.86\"/>\n",
       "</g>\n",
       "<!-- 25 -->\n",
       "<g id=\"node26\" class=\"node\">\n",
       "<title>25</title>\n",
       "<path fill=\"#83c2ef\" stroke=\"black\" d=\"M1408.25,-71C1408.25,-71 1335.25,-71 1335.25,-71 1329.25,-71 1323.25,-65 1323.25,-59 1323.25,-59 1323.25,-12 1323.25,-12 1323.25,-6 1329.25,0 1335.25,0 1335.25,0 1408.25,0 1408.25,0 1414.25,0 1420.25,-6 1420.25,-12 1420.25,-12 1420.25,-59 1420.25,-59 1420.25,-65 1414.25,-71 1408.25,-71\"/>\n",
       "<text text-anchor=\"start\" x=\"1336.5\" y=\"-53.7\" font-family=\"Helvetica,sans-Serif\" font-size=\"14.00\">gini = 0.397</text>\n",
       "<text text-anchor=\"start\" x=\"1331.25\" y=\"-37.95\" font-family=\"Helvetica,sans-Serif\" font-size=\"14.00\">samples = 11</text>\n",
       "<text text-anchor=\"start\" x=\"1332.75\" y=\"-22.2\" font-family=\"Helvetica,sans-Serif\" font-size=\"14.00\">value = [3, 8]</text>\n",
       "<text text-anchor=\"start\" x=\"1344.75\" y=\"-6.45\" font-family=\"Helvetica,sans-Serif\" font-size=\"14.00\">class = 1</text>\n",
       "</g>\n",
       "<!-- 23&#45;&gt;25 -->\n",
       "<g id=\"edge25\" class=\"edge\">\n",
       "<title>23&#45;&gt;25</title>\n",
       "<path fill=\"none\" stroke=\"black\" d=\"M1334.43,-106.7C1338.87,-98.36 1343.53,-89.59 1348,-81.18\"/>\n",
       "<polygon fill=\"black\" stroke=\"black\" points=\"1351.01,-82.97 1352.62,-72.49 1344.83,-79.68 1351.01,-82.97\"/>\n",
       "</g>\n",
       "<!-- 27 -->\n",
       "<g id=\"node28\" class=\"node\">\n",
       "<title>27</title>\n",
       "<path fill=\"#e58139\" stroke=\"black\" d=\"M1520.75,-71C1520.75,-71 1450.75,-71 1450.75,-71 1444.75,-71 1438.75,-65 1438.75,-59 1438.75,-59 1438.75,-12 1438.75,-12 1438.75,-6 1444.75,0 1450.75,0 1450.75,0 1520.75,0 1520.75,0 1526.75,0 1532.75,-6 1532.75,-12 1532.75,-12 1532.75,-59 1532.75,-59 1532.75,-65 1526.75,-71 1520.75,-71\"/>\n",
       "<text text-anchor=\"start\" x=\"1458\" y=\"-53.7\" font-family=\"Helvetica,sans-Serif\" font-size=\"14.00\">gini = 0.0</text>\n",
       "<text text-anchor=\"start\" x=\"1448.62\" y=\"-37.95\" font-family=\"Helvetica,sans-Serif\" font-size=\"14.00\">samples = 2</text>\n",
       "<text text-anchor=\"start\" x=\"1446.75\" y=\"-22.2\" font-family=\"Helvetica,sans-Serif\" font-size=\"14.00\">value = [2, 0]</text>\n",
       "<text text-anchor=\"start\" x=\"1458.75\" y=\"-6.45\" font-family=\"Helvetica,sans-Serif\" font-size=\"14.00\">class = 0</text>\n",
       "</g>\n",
       "<!-- 26&#45;&gt;27 -->\n",
       "<g id=\"edge27\" class=\"edge\">\n",
       "<title>26&#45;&gt;27</title>\n",
       "<path fill=\"none\" stroke=\"black\" d=\"M1485.75,-106.7C1485.75,-98.82 1485.75,-90.55 1485.75,-82.57\"/>\n",
       "<polygon fill=\"black\" stroke=\"black\" points=\"1489.25,-82.67 1485.75,-72.67 1482.25,-82.67 1489.25,-82.67\"/>\n",
       "</g>\n",
       "<!-- 28 -->\n",
       "<g id=\"node29\" class=\"node\">\n",
       "<title>28</title>\n",
       "<path fill=\"#399de5\" stroke=\"black\" d=\"M1632.75,-71C1632.75,-71 1562.75,-71 1562.75,-71 1556.75,-71 1550.75,-65 1550.75,-59 1550.75,-59 1550.75,-12 1550.75,-12 1550.75,-6 1556.75,0 1562.75,0 1562.75,0 1632.75,0 1632.75,0 1638.75,0 1644.75,-6 1644.75,-12 1644.75,-12 1644.75,-59 1644.75,-59 1644.75,-65 1638.75,-71 1632.75,-71\"/>\n",
       "<text text-anchor=\"start\" x=\"1570\" y=\"-53.7\" font-family=\"Helvetica,sans-Serif\" font-size=\"14.00\">gini = 0.0</text>\n",
       "<text text-anchor=\"start\" x=\"1560.62\" y=\"-37.95\" font-family=\"Helvetica,sans-Serif\" font-size=\"14.00\">samples = 1</text>\n",
       "<text text-anchor=\"start\" x=\"1558.75\" y=\"-22.2\" font-family=\"Helvetica,sans-Serif\" font-size=\"14.00\">value = [0, 1]</text>\n",
       "<text text-anchor=\"start\" x=\"1570.75\" y=\"-6.45\" font-family=\"Helvetica,sans-Serif\" font-size=\"14.00\">class = 1</text>\n",
       "</g>\n",
       "<!-- 26&#45;&gt;28 -->\n",
       "<g id=\"edge28\" class=\"edge\">\n",
       "<title>26&#45;&gt;28</title>\n",
       "<path fill=\"none\" stroke=\"black\" d=\"M1528.09,-106.7C1537.01,-97.72 1546.42,-88.23 1555.34,-79.25\"/>\n",
       "<polygon fill=\"black\" stroke=\"black\" points=\"1557.74,-81.8 1562.3,-72.23 1552.77,-76.87 1557.74,-81.8\"/>\n",
       "</g>\n",
       "</g>\n",
       "</svg>\n"
      ],
      "text/plain": [
       "<graphviz.sources.Source at 0x269fb9cac50>"
      ]
     },
     "execution_count": 12,
     "metadata": {},
     "output_type": "execute_result"
    }
   ],
   "source": [
    "tree_model = DecisionTreeClassifier(max_depth=best_depth)\n",
    "tree_model.fit(X_train, y_train)\n",
    "dot_data = tree.export_graphviz(tree_model, out_file=None, \n",
    "                     feature_names=data.columns[:-1],  \n",
    "                     class_names=[\"0\", \"1\"],  \n",
    "                     filled=True, rounded=True,  \n",
    "                     special_characters=True)  \n",
    "graph = graphviz.Source(dot_data)  \n",
    "graph"
   ]
  },
  {
   "cell_type": "markdown",
   "id": "01389c6d",
   "metadata": {},
   "source": [
    "построис важность признаков (feature importances) в виде столбчатой диаграммы"
   ]
  },
  {
   "cell_type": "code",
   "execution_count": 13,
   "id": "da36e879",
   "metadata": {},
   "outputs": [
    {
     "data": {
      "image/png": "[encoded data removed]",
      "text/plain": [
       "<Figure size 640x480 with 1 Axes>"
      ]
     },
     "metadata": {},
     "output_type": "display_data"
    }
   ],
   "source": [
    "plt.bar(data.columns[:-1], tree_model.feature_importances_)\n",
    "plt.ylabel(\"Значимость\")\n",
    "plt.tick_params(axis='x', rotation=90)"
   ]
  },
  {
   "cell_type": "markdown",
   "id": "45e607b4",
   "metadata": {},
   "source": [
    "построим RC и ROC кривые"
   ]
  },
  {
   "cell_type": "code",
   "execution_count": 14,
   "id": "70b09130",
   "metadata": {},
   "outputs": [],
   "source": [
    "from sklearn.metrics import precision_recall_curve, roc_curve\n",
    "y_pred_probs = tree_model.predict_proba(X_test)[:, 1]"
   ]
  },
  {
   "cell_type": "code",
   "execution_count": 15,
   "id": "5bde1071",
   "metadata": {},
   "outputs": [
    {
     "data": {
      "text/plain": [
       "Text(0.5, 1.0, 'PR кривая')"
      ]
     },
     "execution_count": 15,
     "metadata": {},
     "output_type": "execute_result"
    },
    {
     "data": {
      "image/png": "[encoded data removed]",
      "text/plain": [
       "<Figure size 640x480 with 1 Axes>"
      ]
     },
     "metadata": {},
     "output_type": "display_data"
    }
   ],
   "source": [
    "precision, recall, _ = precision_recall_curve(y_test, y_pred_probs)\n",
    "plt.plot(precision, recall)\n",
    "plt.xlabel(\"Precision\")\n",
    "plt.ylabel(\"Recall\")\n",
    "plt.title(\"PR кривая\")"
   ]
  },
  {
   "cell_type": "code",
   "execution_count": 16,
   "id": "b0a5d155",
   "metadata": {},
   "outputs": [
    {
     "data": {
      "text/plain": [
       "Text(0.5, 1.0, 'ROC кривая')"
      ]
     },
     "execution_count": 16,
     "metadata": {},
     "output_type": "execute_result"
    },
    {
     "data": {
      "image/png": "[encoded data removed]",
      "text/plain": [
       "<Figure size 640x480 with 1 Axes>"
      ]
     },
     "metadata": {},
     "output_type": "display_data"
    }
   ],
   "source": [
    "TPR, FPR, _ = roc_curve(y_test, y_pred_probs)\n",
    "plt.plot(TPR, FPR)\n",
    "plt.xlabel(\"TPR\")\n",
    "plt.ylabel(\"FPR\")\n",
    "plt.title(\"ROC кривая\")"
   ]
  }
 ],
 "metadata": {
  "kernelspec": {
   "display_name": ".venv",
   "language": "python",
   "name": "python3"
  },
  "language_info": {
   "codemirror_mode": {
    "name": "ipython",
    "version": 3
   },
   "file_extension": ".py",
   "mimetype": "text/x-python",
   "name": "python",
   "nbconvert_exporter": "python",
   "pygments_lexer": "ipython3",
   "version": "3.10.6"
  }
 },
 "nbformat": 4,
 "nbformat_minor": 5
}
